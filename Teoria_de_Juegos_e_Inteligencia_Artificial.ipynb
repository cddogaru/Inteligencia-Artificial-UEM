{
  "nbformat": 4,
  "nbformat_minor": 0,
  "metadata": {
    "colab": {
      "provenance": [],
      "include_colab_link": true
    },
    "kernelspec": {
      "name": "python3",
      "display_name": "Python 3"
    },
    "language_info": {
      "name": "python"
    }
  },
  "cells": [
    {
      "cell_type": "markdown",
      "metadata": {
        "id": "view-in-github",
        "colab_type": "text"
      },
      "source": [
        "<a href=\"https://colab.research.google.com/github/cddogaru/Inteligencia-Artificial-UEM/blob/main/Teoria_de_Juegos_e_Inteligencia_Artificial.ipynb\" target=\"_parent\"><img src=\"https://colab.research.google.com/assets/colab-badge.svg\" alt=\"Open In Colab\"/></a>"
      ]
    },
    {
      "cell_type": "code",
      "metadata": {
        "colab": {
          "base_uri": "https://localhost:8080/"
        },
        "id": "O_o70unS2OCI",
        "outputId": "f0b7b5a0-b41b-401d-f3bd-c97d7d7fb1be"
      },
      "source": [
        "!pip install nashpy"
      ],
      "execution_count": 5,
      "outputs": [
        {
          "output_type": "stream",
          "name": "stdout",
          "text": [
            "Collecting nashpy\n",
            "  Downloading nashpy-0.0.41-py3-none-any.whl.metadata (6.6 kB)\n",
            "Requirement already satisfied: numpy>=1.21.0 in /usr/local/lib/python3.10/dist-packages (from nashpy) (1.26.4)\n",
            "Requirement already satisfied: scipy>=0.19.0 in /usr/local/lib/python3.10/dist-packages (from nashpy) (1.13.1)\n",
            "Requirement already satisfied: networkx>=3.0.0 in /usr/local/lib/python3.10/dist-packages (from nashpy) (3.4.2)\n",
            "Requirement already satisfied: deprecated>=1.2.14 in /usr/local/lib/python3.10/dist-packages (from nashpy) (1.2.15)\n",
            "Requirement already satisfied: wrapt<2,>=1.10 in /usr/local/lib/python3.10/dist-packages (from deprecated>=1.2.14->nashpy) (1.16.0)\n",
            "Downloading nashpy-0.0.41-py3-none-any.whl (27 kB)\n",
            "Installing collected packages: nashpy\n",
            "Successfully installed nashpy-0.0.41\n"
          ]
        }
      ]
    },
    {
      "cell_type": "code",
      "metadata": {
        "id": "uL1KhvnQ2UeA"
      },
      "source": [
        "import nashpy as nash\n",
        "import numpy as np"
      ],
      "execution_count": 6,
      "outputs": []
    },
    {
      "cell_type": "markdown",
      "metadata": {
        "id": "67fjZcxD8tWX"
      },
      "source": [
        "Definimos las matrices de recompensas:"
      ]
    },
    {
      "cell_type": "code",
      "metadata": {
        "colab": {
          "base_uri": "https://localhost:8080/"
        },
        "id": "nU5fEXvb2B-m",
        "outputId": "fd4515c2-7838-4e84-a9fe-a51306aa2c79"
      },
      "source": [
        "import numpy as np  # Importar numpy\n",
        "import nashpy as nash  # Importar nashpy\n",
        "\n",
        "# Definir las matrices de recompensas\n",
        "A = np.array([[-8, 0], [-10, -11]])  # Jugador filas\n",
        "B = np.array([[-8, -10], [0, -11]])  # Jugador columnas\n",
        "\n",
        "# Crear el juego\n",
        "juego1 = nash.Game(A, B)\n",
        "\n",
        "# Verificar el juego\n",
        "juego1\n"
      ],
      "execution_count": 7,
      "outputs": [
        {
          "output_type": "execute_result",
          "data": {
            "text/plain": [
              "Bi matrix game with payoff matrices:\n",
              "\n",
              "Row player:\n",
              "[[ -8   0]\n",
              " [-10 -11]]\n",
              "\n",
              "Column player:\n",
              "[[ -8 -10]\n",
              " [  0 -11]]"
            ]
          },
          "metadata": {},
          "execution_count": 7
        }
      ]
    },
    {
      "cell_type": "markdown",
      "metadata": {
        "id": "Rf-mr2AU8xHa"
      },
      "source": [
        "Encontramos las estrategias de Equilibrio:"
      ]
    },
    {
      "cell_type": "code",
      "metadata": {
        "colab": {
          "base_uri": "https://localhost:8080/"
        },
        "id": "iSX4Gayf2dnd",
        "outputId": "4c303305-5c2c-4934-deba-119defbc3001"
      },
      "source": [
        "equilibrios = juego1.support_enumeration()\n",
        "for eq in equilibrios:\n",
        "    print(eq)"
      ],
      "execution_count": 8,
      "outputs": [
        {
          "output_type": "stream",
          "name": "stdout",
          "text": [
            "(array([1., 0.]), array([1., 0.]))\n"
          ]
        }
      ]
    },
    {
      "cell_type": "markdown",
      "metadata": {
        "id": "VxvFG9Xn-Mte"
      },
      "source": [
        "De manera similar, para un juego mas complejo con estrategias dominantes:"
      ]
    },
    {
      "cell_type": "code",
      "metadata": {
        "colab": {
          "base_uri": "https://localhost:8080/"
        },
        "id": "x7D5FL1e2nln",
        "outputId": "1e206eca-cc38-4f14-efef-3900e8af8f14"
      },
      "source": [
        "A2 = np.array([[6, 4, 4, 3],\n",
        "               [5, 6, 0, 5],\n",
        "               [5, 3, 6, 4],\n",
        "               [2, 2, 3, 6]]) # A es el jugador filas.\n",
        "\n",
        "B2 = np.array([[3, 4, 1, 0],\n",
        "               [4, 3, 2, 1],\n",
        "               [0, 2, 1, 4],\n",
        "               [0, 3, 3, 1]]) # B es el jugador columnas.\n",
        "juego2 = nash.Game(A2, B2)\n",
        "juego2"
      ],
      "execution_count": 9,
      "outputs": [
        {
          "output_type": "execute_result",
          "data": {
            "text/plain": [
              "Bi matrix game with payoff matrices:\n",
              "\n",
              "Row player:\n",
              "[[6 4 4 3]\n",
              " [5 6 0 5]\n",
              " [5 3 6 4]\n",
              " [2 2 3 6]]\n",
              "\n",
              "Column player:\n",
              "[[3 4 1 0]\n",
              " [4 3 2 1]\n",
              " [0 2 1 4]\n",
              " [0 3 3 1]]"
            ]
          },
          "metadata": {},
          "execution_count": 9
        }
      ]
    },
    {
      "cell_type": "markdown",
      "metadata": {
        "id": "efdkbSf8-RK6"
      },
      "source": [
        "Las estrategias resultantes son aquellas que no son dominadas:"
      ]
    },
    {
      "cell_type": "code",
      "metadata": {
        "colab": {
          "base_uri": "https://localhost:8080/"
        },
        "id": "PTNTe5kH98Pj",
        "outputId": "73ffa6ed-2cca-4cf9-9628-a544c6727e73"
      },
      "source": [
        "equilibrios = juego2.support_enumeration()\n",
        "for eq in equilibrios:\n",
        "    print(eq)"
      ],
      "execution_count": 10,
      "outputs": [
        {
          "output_type": "stream",
          "name": "stdout",
          "text": [
            "(array([0.5, 0.5, 0. , 0. ]), array([0.66666667, 0.33333333, 0.        , 0.        ]))\n"
          ]
        }
      ]
    },
    {
      "cell_type": "markdown",
      "metadata": {
        "id": "8uG0MTntCovf"
      },
      "source": [
        "# Minimax para 3 en Raya"
      ]
    },
    {
      "cell_type": "code",
      "metadata": {
        "id": "_apVivwXCqa_"
      },
      "source": [
        "import time\n",
        "\n",
        "class Juego:\n",
        "    def __init__(self):\n",
        "        self.iniciar_juego()\n",
        "\n",
        "    def iniciar_juego(self):\n",
        "        self.estado_actual = [['.','.','.'],\n",
        "                              ['.','.','.'],\n",
        "                              ['.','.','.']]\n",
        "\n",
        "        # X siempre juega primero:\n",
        "        self.turno_jugador = 'X'\n",
        "\n",
        "    def dibujar_tablero(self):\n",
        "        for i in range(0, 3):\n",
        "            for j in range(0, 3):\n",
        "                print('{}|'.format(self.estado_actual[i][j]), end=\" \")\n",
        "            print()\n",
        "        print()\n",
        "\n",
        "    def es_valido(self, px, py):\n",
        "      if px < 0 or px > 2 or py < 0 or py > 2:\n",
        "          return False\n",
        "      elif self.estado_actual[px][py] != '.':\n",
        "          return False\n",
        "      else:\n",
        "          return True\n",
        "\n",
        "    def es_fin(self):\n",
        "      # Victoria en vertical:\n",
        "      for i in range(0, 3):\n",
        "          if (self.estado_actual[0][i] != '.' and\n",
        "              self.estado_actual[0][i] == self.estado_actual[1][i] and\n",
        "              self.estado_actual[1][i] == self.estado_actual[2][i]):\n",
        "              return self.estado_actual[0][i]\n",
        "\n",
        "      # Victoria en Horizontal:\n",
        "      for i in range(0, 3):\n",
        "          if (self.estado_actual[i] == ['X', 'X', 'X']):\n",
        "              return 'X'\n",
        "          elif (self.estado_actual[i] == ['O', 'O', 'O']):\n",
        "              return 'O'\n",
        "\n",
        "      # Victoria diagonal principal:\n",
        "      if (self.estado_actual[0][0] != '.' and\n",
        "          self.estado_actual[0][0] == self.estado_actual[1][1] and\n",
        "          self.estado_actual[0][0] == self.estado_actual[2][2]):\n",
        "          return self.estado_actual[0][0]\n",
        "\n",
        "      # Victoria diagonal secundaria:\n",
        "      if (self.estado_actual[0][2] != '.' and\n",
        "          self.estado_actual[0][2] == self.estado_actual[1][1] and\n",
        "          self.estado_actual[0][2] == self.estado_actual[2][0]):\n",
        "          return self.estado_actual[0][2]\n",
        "\n",
        "      # Mesa llena:\n",
        "      for i in range(0, 3):\n",
        "          for j in range(0, 3):\n",
        "              # Si hay espacio, seguimos jugando:\n",
        "              if (self.estado_actual[i][j] == '.'):\n",
        "                  return None\n",
        "\n",
        "      # Empate, mesa llena sin victoria:\n",
        "      return '.'\n",
        "\n",
        "    # 'O' es max, en este caso la IA:\n",
        "    def max(self):\n",
        "\n",
        "        # Posibles valores para max:\n",
        "        # -1 - pierde\n",
        "        #  0 - empata\n",
        "        #  1 - gana\n",
        "\n",
        "        # Inicializamos el resultado a -2, peor que lo peor\n",
        "        maxv = -2\n",
        "\n",
        "        px = None\n",
        "        py = None\n",
        "\n",
        "        resultado = self.es_fin()\n",
        "\n",
        "        # Si el juego acaba, debemos devolver el resultado:\n",
        "        if resultado == 'X':\n",
        "            return (-1, 0, 0)\n",
        "        elif resultado == 'O':\n",
        "            return (1, 0, 0)\n",
        "        elif resultado == '.':\n",
        "            return (0, 0, 0)\n",
        "\n",
        "        for i in range(0, 3):\n",
        "            for j in range(0, 3):\n",
        "                if self.estado_actual[i][j] == '.':\n",
        "                    # Esto es una rama del juego:\n",
        "                    self.estado_actual[i][j] = 'O'\n",
        "                    (m, min_i, min_j) = self.min()\n",
        "                    # Fijamos maxv si es necesario:\n",
        "                    if m > maxv:\n",
        "                        maxv = m\n",
        "                        px = i\n",
        "                        py = j\n",
        "                    # Vaciamos el tablero\n",
        "                    self.estado_actual[i][j] = '.'\n",
        "        return (maxv, px, py)\n",
        "\n",
        "    # El jugador 'X' es min, un humano en este caso:\n",
        "    def min(self):\n",
        "\n",
        "        #Inicio igual que para max:\n",
        "        minv = 2\n",
        "\n",
        "        qx = None\n",
        "        qy = None\n",
        "\n",
        "        resultado = self.es_fin()\n",
        "\n",
        "        if resultado == 'X':\n",
        "            return (-1, 0, 0)\n",
        "        elif resultado == 'O':\n",
        "            return (1, 0, 0)\n",
        "        elif resultado == '.':\n",
        "            return (0, 0, 0)\n",
        "\n",
        "        for i in range(0, 3):\n",
        "            for j in range(0, 3):\n",
        "                if self.estado_actual[i][j] == '.':\n",
        "                    self.estado_actual[i][j] = 'X'\n",
        "                    (m, max_i, max_j) = self.max()\n",
        "                    if m < minv:\n",
        "                        minv = m\n",
        "                        qx = i\n",
        "                        qy = j\n",
        "                    self.estado_actual[i][j] = '.'\n",
        "\n",
        "        return (minv, qx, qy)\n",
        "\n",
        "    def jugar(self):\n",
        "      while True:\n",
        "          self.dibujar_tablero()\n",
        "          self.resultado = self.es_fin()\n",
        "\n",
        "          # Mostrar que el juego termino:\n",
        "          if self.resultado != None:\n",
        "              if self.resultado == 'X':\n",
        "                  print('El ganador es X!')\n",
        "              elif self.resultado == 'O':\n",
        "                  print('El ganador es O!')\n",
        "              elif self.resultado == '.':\n",
        "                  print(\"Empate!\")\n",
        "\n",
        "              self.iniciar_juego()\n",
        "              return\n",
        "\n",
        "          # If it's player's turn\n",
        "          if self.turno_jugador == 'X':\n",
        "\n",
        "              while True:\n",
        "\n",
        "                  inicio = time.time()\n",
        "                  (m, qx, qy) = self.min()\n",
        "                  fin = time.time()\n",
        "                  print('Evaluacion: {}s'.format(round(fin - inicio, 7)))\n",
        "                  print('Movimientos Recomendados: X = {}, Y = {}'.format(qx, qy))\n",
        "\n",
        "                  px = int(input('X coordenada: '))\n",
        "                  py = int(input('Y coordenada: '))\n",
        "\n",
        "                  (qx, qy) = (px, py)\n",
        "\n",
        "                  if self.es_valido(px, py):\n",
        "                      self.estado_actual[px][py] = 'X'\n",
        "                      self.turno_jugador = 'O'\n",
        "                      break\n",
        "                  else:\n",
        "                      print('Movimiento no valido, prueba otra vez.')\n",
        "\n",
        "          # Turno de la IA\n",
        "          else:\n",
        "              (m, px, py) = self.max()\n",
        "              self.estado_actual[px][py] = 'O'\n",
        "              self.turno_jugador = 'X'"
      ],
      "execution_count": null,
      "outputs": []
    },
    {
      "cell_type": "code",
      "metadata": {
        "colab": {
          "base_uri": "https://localhost:8080/"
        },
        "id": "HMm8sCeDDDVi",
        "outputId": "535ef6bc-c2d9-4f78-8d64-c7f656f3369d"
      },
      "source": [
        "g = Juego()\n",
        "g.jugar()"
      ],
      "execution_count": null,
      "outputs": [
        {
          "output_type": "stream",
          "name": "stdout",
          "text": [
            ".| .| .| \n",
            ".| .| .| \n",
            ".| .| .| \n",
            "\n",
            "Evaluacion: 3.2620902s\n",
            "Movimientos Recomendados: X = 0, Y = 0\n",
            "X coordenada: 1\n",
            "Y coordenada: 1\n",
            ".| .| .| \n",
            ".| X| .| \n",
            ".| .| .| \n",
            "\n",
            "O| .| .| \n",
            ".| X| .| \n",
            ".| .| .| \n",
            "\n",
            "Evaluacion: 0.038965s\n",
            "Movimientos Recomendados: X = 0, Y = 1\n",
            "X coordenada: 0\n",
            "Y coordenada: 0\n",
            "Movimiento invalido, prueba otra vez.\n",
            "Evaluacion: 0.0469537s\n",
            "Movimientos Recomendados: X = 0, Y = 1\n",
            "X coordenada: 1\n",
            "Y coordenada: 0\n",
            "O| .| .| \n",
            "X| X| .| \n",
            ".| .| .| \n",
            "\n",
            "O| .| .| \n",
            "X| X| O| \n",
            ".| .| .| \n",
            "\n",
            "Evaluacion: 0.0016596s\n",
            "Movimientos Recomendados: X = 0, Y = 1\n",
            "X coordenada: 0\n",
            "Y coordenada: 1\n",
            "O| X| .| \n",
            "X| X| O| \n",
            ".| .| .| \n",
            "\n",
            "O| X| .| \n",
            "X| X| O| \n",
            ".| O| .| \n",
            "\n",
            "Evaluacion: 0.000241s\n",
            "Movimientos Recomendados: X = 0, Y = 2\n",
            "X coordenada: 0\n",
            "Y coordenada: 2\n",
            "O| X| X| \n",
            "X| X| O| \n",
            ".| O| .| \n",
            "\n",
            "O| X| X| \n",
            "X| X| O| \n",
            "O| O| .| \n",
            "\n",
            "Evaluacion: 2.98e-05s\n",
            "Movimientos Recomendados: X = 2, Y = 2\n",
            "X coordenada: 2\n",
            "Y coordenada: 2\n",
            "O| X| X| \n",
            "X| X| O| \n",
            "O| O| X| \n",
            "\n",
            "Empate!\n"
          ]
        }
      ]
    },
    {
      "cell_type": "markdown",
      "metadata": {
        "id": "4c2dgySdN68q"
      },
      "source": [
        "# Ejercicio: ¿Puedes modificar las funciones min y max para podar las ramas innecesarias? ¿Que le pasa al tiempo de procesamiento de la busqueda de la IA?"
      ]
    },
    {
      "cell_type": "markdown",
      "metadata": {
        "id": "gkXqBCNgW--L"
      },
      "source": [
        "Modifica las funciones min, max y jugar con los ejemplos siguientes rellenando los espacios:"
      ]
    },
    {
      "cell_type": "code",
      "metadata": {
        "id": "TOB4zRutFHcd"
      },
      "source": [
        "def max_alfa_beta(self, alfa, beta):\n",
        "        maxv = -2  # Inicializamos el valor máximo a un número bajo\n",
        "        px = None  # Coordenada x para el mejor movimiento\n",
        "        py = None  # Coordenada y para el mejor movimiento\n",
        "\n",
        "        resultado = self.comprobar_resultado()  # Comprobar el estado del juego\n",
        "\n",
        "        if resultado == 'X':  # Si el jugador 'X' gana\n",
        "            return (-1, 0, 0)\n",
        "        elif resultado == 'O':  # Si el jugador 'O' gana\n",
        "            return (1, 0, 0)\n",
        "        elif resultado == '.':  # Si es un empate\n",
        "            return (0, 0, 0)\n",
        "\n",
        "        for i in range(0, 3):  # Iteramos sobre las filas\n",
        "            for j in range(0, 3):  # Iteramos sobre las columnas\n",
        "                if self.estado_actual[i][j] == '.':  # Si la casilla está vacía\n",
        "                    self.estado_actual[i][j] = 'O'  # Jugada del jugador 'O'\n",
        "                    (m, min_i, min_j) = self.min_alfa_beta(alfa, beta)  # Llamada recursiva a min_alfa_beta\n",
        "\n",
        "                    if m > maxv:  # Si encontramos un mejor valor\n",
        "                        maxv = m\n",
        "                        px = i\n",
        "                        py = j\n",
        "\n",
        "                    self.estado_actual[i][j] = '.'  # Deshacemos la jugada\n",
        "\n",
        "                    if maxv >= beta:  # Poda beta: si maxv es mayor o igual que beta, no seguimos\n",
        "                        return (maxv, px, py)\n",
        "\n",
        "                    if maxv > alfa:  # Actualizamos alfa\n",
        "                        alfa = maxv\n",
        "\n",
        "        return (maxv, px, py)  # Devolvemos el mejor valor y la posición\n"
      ],
      "execution_count": 11,
      "outputs": []
    },
    {
      "cell_type": "code",
      "metadata": {
        "id": "RDZcv29POvK-"
      },
      "source": [
        "def min_alfa_beta(self, alfa, beta):\n",
        "\n",
        "        minv = 2  # Inicializamos con un valor alto, porque buscamos minimizar\n",
        "\n",
        "        qx = None  # Coordenada x para el mejor movimiento\n",
        "        qy = None  # Coordenada y para el mejor movimiento\n",
        "\n",
        "        resultado = self.comprobar_resultado()  # Comprobar el estado del juego\n",
        "\n",
        "        if resultado == 'X':  # Si 'X' gana\n",
        "            return (-1, 0, 0)\n",
        "        elif resultado == 'O':  # Si 'O' gana\n",
        "            return (1, 0, 0)\n",
        "        elif resultado == '.':  # Si es un empate\n",
        "            return (0, 0, 0)\n",
        "\n",
        "        for i in range(0, 3):  # Iteramos sobre las filas\n",
        "            for j in range(0, 3):  # Iteramos sobre las columnas\n",
        "                if self.estado_actual[i][j] == '.':  # Si la casilla está vacía\n",
        "                    self.estado_actual[i][j] = 'X'  # Jugada del jugador 'X'\n",
        "                    (m, max_i, max_j) = self.max_alfa_beta(alfa, beta)  # Llamada recursiva a max_alfa_beta\n",
        "\n",
        "                    if m < minv:  # Si encontramos un mejor valor mínimo\n",
        "                        minv = m\n",
        "                        qx = i\n",
        "                        qy = j\n",
        "\n",
        "                    self.estado_actual[i][j] = '.'  # Deshacemos la jugada\n",
        "\n",
        "                    if minv <= alfa:  # Poda alfa: si minv es menor o igual que alfa, no seguimos\n",
        "                        return (minv, qx, qy)\n",
        "\n",
        "                    if minv < beta:  # Actualizamos beta\n",
        "                        beta = minv\n",
        "\n",
        "        return (minv, qx, qy)  # Devolvemos el mejor valor y la posición\n"
      ],
      "execution_count": 12,
      "outputs": []
    },
    {
      "cell_type": "code",
      "metadata": {
        "id": "hajLHAjPR032"
      },
      "source": [
        "def jugar_alfa_beta(self):\n",
        "     while True:\n",
        "        self.mostrar_tablero()  # Mostramos el tablero actual\n",
        "        self.resultado = self.comprobar_resultado()  # Comprobamos si hay un ganador o empate\n",
        "\n",
        "        if self.resultado != None:  # Si hay un resultado (alguien ganó o empate)\n",
        "            if self.resultado == 'X':\n",
        "                print('¡Gana X!')\n",
        "            elif self.resultado == 'O':\n",
        "                print('¡Gana O!')\n",
        "            elif self.resultado == '.':\n",
        "                print(\"¡Empate!\")\n",
        "\n",
        "            self.mostrar_tablero()  # Mostramos el tablero final\n",
        "            return  # Salimos del bucle y terminamos el juego\n",
        "\n",
        "        if self.turno_actual == 'X':  # Si es el turno del jugador 'X'\n",
        "            while True:\n",
        "                inicio = time.time()  # Registramos el inicio del tiempo\n",
        "                (m, qx, qy) = self.min_alfa_beta(-2, 2)  # Calculamos el mejor movimiento para 'X'\n",
        "                fin = time.time()  # Registramos el fin del tiempo\n",
        "                print('Tiempo de evaluación: {}s'.format(round(fin - inicio, 7)))\n",
        "                print('Movimiento recomendado: X = {}, Y = {}'.format(qx, qy))\n",
        "\n",
        "                px = int(input('X coordenada: '))  # Pedimos la coordenada x al jugador\n",
        "                py = int(input('Y coordenada: '))  # Pedimos la coordenada y al jugador\n",
        "\n",
        "                if self.es_movimiento_valido(px, py):  # Comprobamos si el movimiento es válido\n",
        "                    self.estado_actual[px][py] = 'X'  # Hacemos el movimiento\n",
        "                    self.turno_actual = 'O'  # Cambiamos el turno al jugador 'O'\n",
        "                    break  # Salimos del bucle\n",
        "                else:\n",
        "                    print('Movimiento no válido. Prueba con otro movimiento.')\n",
        "\n",
        "        else:  # Si es el turno del jugador 'O'\n",
        "            (m, px, py) = self.max_alfa_beta(-2, 2)  # Calculamos el mejor movimiento para 'O'\n",
        "            self.estado_actual[px][py] = 'O'  # Hacemos el movimiento para 'O'\n",
        "            self.turno_actual = 'X'  # Cambiamos el turno al jugador 'X'\n"
      ],
      "execution_count": 14,
      "outputs": []
    },
    {
      "cell_type": "code",
      "source": [],
      "metadata": {
        "id": "_jeG5ZLm28vn"
      },
      "execution_count": null,
      "outputs": []
    }
  ]
}